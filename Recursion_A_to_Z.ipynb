{
  "nbformat": 4,
  "nbformat_minor": 0,
  "metadata": {
    "colab": {
      "provenance": []
    },
    "kernelspec": {
      "name": "python3",
      "display_name": "Python 3"
    },
    "language_info": {
      "name": "python"
    }
  },
  "cells": [
    {
      "cell_type": "markdown",
      "source": [
        "# **Resursion**"
      ],
      "metadata": {
        "id": "l6z0BVQj781b"
      }
    },
    {
      "cell_type": "markdown",
      "source": [
        "### **Lecture 1&2**"
      ],
      "metadata": {
        "id": "zQaqZq8a8PSL"
      }
    },
    {
      "cell_type": "code",
      "source": [
        "for i in range(5):\n",
        "  print('Krishana')"
      ],
      "metadata": {
        "colab": {
          "base_uri": "https://localhost:8080/"
        },
        "id": "b0Ye3jWG8B5f",
        "outputId": "0e50a80b-7660-45de-a080-bb96131323b8"
      },
      "execution_count": null,
      "outputs": [
        {
          "output_type": "stream",
          "name": "stdout",
          "text": [
            "Krishana\n",
            "Krishana\n",
            "Krishana\n",
            "Krishana\n",
            "Krishana\n"
          ]
        }
      ]
    },
    {
      "cell_type": "code",
      "source": [
        "i=0\n",
        "def name():\n",
        "  global i\n",
        "  if i==5:\n",
        "    return\n",
        "  i+=1\n",
        "  print('Ram')\n",
        "  name()\n",
        "\n",
        "name()"
      ],
      "metadata": {
        "colab": {
          "base_uri": "https://localhost:8080/"
        },
        "id": "r-9LR1sT8B7c",
        "outputId": "46a55c3e-049e-4ea1-f176-f156f61f8067"
      },
      "execution_count": null,
      "outputs": [
        {
          "output_type": "stream",
          "name": "stdout",
          "text": [
            "Ram\n",
            "Ram\n",
            "Ram\n",
            "Ram\n",
            "Ram\n"
          ]
        }
      ]
    },
    {
      "cell_type": "code",
      "source": [
        "def N_times_name(i,n):\n",
        "  if(i>n):\n",
        "    return\n",
        "  print(\"Ram\")\n",
        "  N_times_name(i+1,n)\n",
        "n=int(input(\"Enter the number how many time You want to print : \"))\n",
        "i=1\n",
        "N_times_name(i,n)\n"
      ],
      "metadata": {
        "colab": {
          "base_uri": "https://localhost:8080/"
        },
        "id": "83iLGGWi8B_m",
        "outputId": "9f48b0b0-3632-4c85-9d5f-eb2f073f8dbe"
      },
      "execution_count": null,
      "outputs": [
        {
          "output_type": "stream",
          "name": "stdout",
          "text": [
            "Enter the number how many time You want to print : 5\n",
            "Ram\n",
            "Ram\n",
            "Ram\n",
            "Ram\n",
            "Ram\n"
          ]
        }
      ]
    },
    {
      "cell_type": "code",
      "source": [
        "# Print Linearly 1-n\n",
        "def N_number(i,n):\n",
        "  if(i>n):\n",
        "    return\n",
        "  print(i)\n",
        "  N_number(i+1,n)\n",
        "\n",
        "n=int(input(\"Enter the number how many time You want to print : \"))\n",
        "i=1\n",
        "N_number(i,n)"
      ],
      "metadata": {
        "colab": {
          "base_uri": "https://localhost:8080/"
        },
        "id": "0iotUAmf8CBz",
        "outputId": "fc3a6cfc-542e-44d5-ff74-1f73184f6093"
      },
      "execution_count": null,
      "outputs": [
        {
          "output_type": "stream",
          "name": "stdout",
          "text": [
            "Enter the number how many time You want to print : 6\n",
            "1\n",
            "2\n",
            "3\n",
            "4\n",
            "5\n",
            "6\n"
          ]
        }
      ]
    },
    {
      "cell_type": "code",
      "source": [
        "# Print Linearly n-1\n",
        "def Number_n(i,n):\n",
        "  if(i>n):\n",
        "    return\n",
        "  print(n)\n",
        "  Number_n(i,n-1)\n",
        "n=int(input(\"Enter the number how many time You want to print : \"))\n",
        "i=1\n",
        "Number_n(i,n)"
      ],
      "metadata": {
        "colab": {
          "base_uri": "https://localhost:8080/"
        },
        "id": "7JUkY1Sn8CFY",
        "outputId": "461e62d2-9cba-4aed-cbfb-dfdf751c7be9"
      },
      "execution_count": null,
      "outputs": [
        {
          "output_type": "stream",
          "name": "stdout",
          "text": [
            "Enter the number how many time You want to print : 5\n",
            "5\n",
            "4\n",
            "3\n",
            "2\n",
            "1\n"
          ]
        }
      ]
    },
    {
      "cell_type": "code",
      "source": [
        "def Back_Number(i,n):\n",
        "  if(i<1):\n",
        "    return\n",
        "  print(i)\n",
        "  Back_Number(i-1,n)\n",
        "n=int(input(\"Enter the number how many time You want to print : \"))\n",
        "i=3\n",
        "Back_Number(i,n)"
      ],
      "metadata": {
        "colab": {
          "base_uri": "https://localhost:8080/"
        },
        "id": "crklJMt_8CH0",
        "outputId": "8aeaf62c-b565-445a-934d-c663341ef32f"
      },
      "execution_count": null,
      "outputs": [
        {
          "output_type": "stream",
          "name": "stdout",
          "text": [
            "Enter the number how many time You want to print : 3\n",
            "3\n",
            "2\n",
            "1\n"
          ]
        }
      ]
    },
    {
      "cell_type": "code",
      "source": [
        "def Back_Number(i,n):\n",
        "  if(i>n):\n",
        "    return\n",
        "  Back_Number(i+1,n)\n",
        "  print(i)\n",
        "n=int(input(\"Enter the number how many time You want to print : \"))\n",
        "i=1\n",
        "Back_Number(i,n)"
      ],
      "metadata": {
        "colab": {
          "base_uri": "https://localhost:8080/"
        },
        "id": "eLEUt9828CLG",
        "outputId": "17574299-3e09-47dc-b662-3a5b25b06365"
      },
      "execution_count": null,
      "outputs": [
        {
          "output_type": "stream",
          "name": "stdout",
          "text": [
            "Enter the number how many time You want to print : 5\n",
            "5\n",
            "4\n",
            "3\n",
            "2\n",
            "1\n"
          ]
        }
      ]
    },
    {
      "cell_type": "markdown",
      "source": [
        "### **Lecture 3&4**"
      ],
      "metadata": {
        "id": "m1u2_RKN9ejO"
      }
    },
    {
      "cell_type": "code",
      "source": [
        "# Palindrom string\n",
        "\n",
        "def palindrom(i,s):\n",
        "  n=len(s)\n",
        "  if i>=n/2:\n",
        "    return \"Palindrom\"\n",
        "  if s[i]!=s[n-i-1]:\n",
        "    return \"Not Palindrom\"\n",
        "  return palindrom(i+1,s)\n",
        "s=input(\"Enter String to check is Palindrom : \")\n",
        "palindrom(0,s)"
      ],
      "metadata": {
        "colab": {
          "base_uri": "https://localhost:8080/",
          "height": 52
        },
        "id": "xirElfln8CNb",
        "outputId": "9fa9e462-f21d-4a09-a702-97780ef9a845"
      },
      "execution_count": null,
      "outputs": [
        {
          "name": "stdout",
          "output_type": "stream",
          "text": [
            "Enter String to check is Palindrom : aba\n"
          ]
        },
        {
          "output_type": "execute_result",
          "data": {
            "text/plain": [
              "'Palindrom'"
            ],
            "application/vnd.google.colaboratory.intrinsic+json": {
              "type": "string"
            }
          },
          "metadata": {},
          "execution_count": 10
        }
      ]
    },
    {
      "cell_type": "code",
      "source": [
        "## Sum of first n number\n",
        "def sum_N(sum,n):\n",
        "  if n==0:\n",
        "    print(sum)\n",
        "    return\n",
        "  sum=sum+n\n",
        "  sum_N(sum,n-1)\n",
        "sum_N(0,10)"
      ],
      "metadata": {
        "colab": {
          "base_uri": "https://localhost:8080/"
        },
        "id": "zuTPDtq88CQY",
        "outputId": "4f6b08f7-da80-4f9b-e396-6e120c828761"
      },
      "execution_count": null,
      "outputs": [
        {
          "output_type": "stream",
          "name": "stdout",
          "text": [
            "55\n"
          ]
        }
      ]
    },
    {
      "cell_type": "code",
      "source": [
        "def sum_Number(n):\n",
        "  if n==0:\n",
        "    return 0\n",
        "  return n+sum_Number(n-1)\n",
        "sum_Number(10)"
      ],
      "metadata": {
        "colab": {
          "base_uri": "https://localhost:8080/"
        },
        "id": "fCTaYf2Q8CSx",
        "outputId": "e90610ab-614f-4051-e7d3-bde0d9e80d39"
      },
      "execution_count": null,
      "outputs": [
        {
          "output_type": "execute_result",
          "data": {
            "text/plain": [
              "55"
            ]
          },
          "metadata": {},
          "execution_count": 12
        }
      ]
    },
    {
      "cell_type": "code",
      "source": [
        "## Factorial Of n number\n",
        "def fact(n):\n",
        "  if n==0:\n",
        "    return 1\n",
        "  return n*fact(n-1)\n",
        "fact(3)"
      ],
      "metadata": {
        "colab": {
          "base_uri": "https://localhost:8080/"
        },
        "id": "k0eBApu-8CVk",
        "outputId": "f319901c-b7f6-41fe-c5f3-719836104462"
      },
      "execution_count": null,
      "outputs": [
        {
          "output_type": "execute_result",
          "data": {
            "text/plain": [
              "6"
            ]
          },
          "metadata": {},
          "execution_count": 13
        }
      ]
    },
    {
      "cell_type": "markdown",
      "source": [
        "### **Lecture 5&6**"
      ],
      "metadata": {
        "id": "s7b8CyCE-QZh"
      }
    },
    {
      "cell_type": "markdown",
      "source": [
        "### **Print the subsequence of an array**"
      ],
      "metadata": {
        "id": "Q7K33tgO-gZV"
      }
    },
    {
      "cell_type": "code",
      "source": [
        "# Print the subsequence of an array\n",
        "arr=[3,1,2]\n",
        "def f(i,l):\n",
        "  if i>=len(arr):\n",
        "    print(l)\n",
        "    return\n",
        "  l.append(arr[i])\n",
        "  f(i+1,l)\n",
        "  l.remove(arr[i])\n",
        "  f(i+1,l)\n",
        "l=[]\n",
        "f(0,l)"
      ],
      "metadata": {
        "colab": {
          "base_uri": "https://localhost:8080/"
        },
        "id": "xfiyU6wD8CXv",
        "outputId": "eb0cbfd7-72a0-4c6f-95b9-19e399a935ce"
      },
      "execution_count": null,
      "outputs": [
        {
          "output_type": "stream",
          "name": "stdout",
          "text": [
            "[3, 1, 2]\n",
            "[3, 1]\n",
            "[3, 2]\n",
            "[3]\n",
            "[1, 2]\n",
            "[1]\n",
            "[2]\n",
            "[]\n"
          ]
        }
      ]
    },
    {
      "cell_type": "markdown",
      "source": [
        "### **Fabonacci Series**"
      ],
      "metadata": {
        "id": "N3Tzvd9l-2nq"
      }
    },
    {
      "cell_type": "code",
      "source": [
        "# Fabonacci Series 0,1,1,2,3,5,8,13\n",
        "n=int(input('Enter Number : '))\n",
        "num1=0\n",
        "num2=1\n",
        "next_num=num2\n",
        "for i in range(1,n):\n",
        "  print(next_num)\n",
        "  num1,num2=num2,next_num\n",
        "  next_num=num1+num2"
      ],
      "metadata": {
        "colab": {
          "base_uri": "https://localhost:8080/"
        },
        "id": "aqFoMYMi8Ca-",
        "outputId": "a9c8fa99-9161-4f54-a807-96670e7d1871"
      },
      "execution_count": null,
      "outputs": [
        {
          "output_type": "stream",
          "name": "stdout",
          "text": [
            "Enter Number : 5\n",
            "1\n",
            "2\n",
            "3\n",
            "5\n"
          ]
        }
      ]
    },
    {
      "cell_type": "code",
      "source": [
        "def febo(n):\n",
        "  if n<2:\n",
        "    return 1\n",
        "  return febo(n-1)+febo(n-2)\n",
        "for i in range(0,11):\n",
        "  print(febo(i))"
      ],
      "metadata": {
        "colab": {
          "base_uri": "https://localhost:8080/"
        },
        "id": "i30lq3It8Dbr",
        "outputId": "d7afe278-19c0-463d-aea2-2b5096033d09"
      },
      "execution_count": null,
      "outputs": [
        {
          "output_type": "stream",
          "name": "stdout",
          "text": [
            "1\n",
            "1\n",
            "2\n",
            "3\n",
            "5\n",
            "8\n",
            "13\n",
            "21\n",
            "34\n",
            "55\n",
            "89\n"
          ]
        }
      ]
    },
    {
      "cell_type": "code",
      "source": [
        "num = 10\n",
        "n1, n2 = 0, 1\n",
        "if num == 1:\n",
        "  print(n1)\n",
        "else:\n",
        "  print(n1, n2, end=\" \")\n",
        "  for i in range(2, num):\n",
        "     n3 = n1 + n2\n",
        "     n1 = n2\n",
        "     n2 = n3\n",
        "     print(n3, end=\" \")"
      ],
      "metadata": {
        "colab": {
          "base_uri": "https://localhost:8080/"
        },
        "id": "CMIzTtrE8Ddy",
        "outputId": "c938b2c6-d4c7-4447-955e-432b15acbdd7"
      },
      "execution_count": null,
      "outputs": [
        {
          "output_type": "stream",
          "name": "stdout",
          "text": [
            "0 1 1 2 3 5 8 13 21 34 "
          ]
        }
      ]
    },
    {
      "cell_type": "markdown",
      "source": [
        "### **Lecture 7**"
      ],
      "metadata": {
        "id": "YSMpLxHG_2-K"
      }
    },
    {
      "cell_type": "code",
      "source": [
        "# Find the subsequence where the sum==2\n",
        "arr=[1,2,1]\n",
        "def s_seq(i,a,s):\n",
        "  n=len(arr)\n",
        "  if i==n:\n",
        "    if s==sum:\n",
        "      print(a)\n",
        "    return\n",
        "  a.append(arr[i])\n",
        "  s+=arr[i]\n",
        "  s_seq(i+1,a,s)\n",
        "  a.remove(arr[i])\n",
        "  s-=arr[i]\n",
        "  s_seq(i+1,a,s)\n",
        "a=[]\n",
        "sum=2\n",
        "s_seq(0,a,0)"
      ],
      "metadata": {
        "colab": {
          "base_uri": "https://localhost:8080/"
        },
        "id": "Z1IMtiVw8Dhu",
        "outputId": "1b1423af-4925-4c43-df4a-748d097a500f"
      },
      "execution_count": null,
      "outputs": [
        {
          "output_type": "stream",
          "name": "stdout",
          "text": [
            "[1, 1]\n",
            "[2]\n"
          ]
        }
      ]
    },
    {
      "cell_type": "code",
      "source": [
        "# Find the subsequence where the sum==2\n",
        "arr=[1,2,1]\n",
        "sum=2\n",
        "def s_seq(i=0,a=[],s=0):\n",
        "  n=len(arr)\n",
        "  if i==n:\n",
        "    if s==sum:\n",
        "      print(a)\n",
        "    return\n",
        "  a.append(arr[i])\n",
        "  s+=arr[i]\n",
        "  s_seq(i+1,a,s)\n",
        "  a.remove(arr[i])\n",
        "  s-=arr[i]\n",
        "  s_seq(i+1,a,s)\n",
        "s_seq()"
      ],
      "metadata": {
        "colab": {
          "base_uri": "https://localhost:8080/"
        },
        "id": "f_r4f8D68Dkj",
        "outputId": "9d45a810-cd99-43db-da18-aaa057a3d663"
      },
      "execution_count": null,
      "outputs": [
        {
          "output_type": "stream",
          "name": "stdout",
          "text": [
            "[1, 1]\n",
            "[2]\n"
          ]
        }
      ]
    },
    {
      "cell_type": "code",
      "source": [
        "## Find first subsequence which sum is 2\n",
        "arr=[1,2,1]\n",
        "def s_seq(i,a,s):\n",
        "  n=len(arr)\n",
        "  if i==n:\n",
        "    if s==sum:\n",
        "      print(a)\n",
        "      return True\n",
        "    return False\n",
        "  a.append(arr[i])\n",
        "  s+=arr[i]\n",
        "  if s_seq(i+1,a,s) == True:\n",
        "    return True\n",
        "  a.remove(arr[i])\n",
        "  s-=arr[i]\n",
        "  if s_seq(i+1,a,s) == True:\n",
        "    return True\n",
        "  return False\n",
        "a=[]\n",
        "sum=2\n",
        "s_seq(0,a,0)"
      ],
      "metadata": {
        "colab": {
          "base_uri": "https://localhost:8080/"
        },
        "id": "v4SZMhIT8Dnh",
        "outputId": "cc754c31-552b-4096-eda5-a7cde0a5a479"
      },
      "execution_count": null,
      "outputs": [
        {
          "output_type": "stream",
          "name": "stdout",
          "text": [
            "[1, 1]\n"
          ]
        },
        {
          "output_type": "execute_result",
          "data": {
            "text/plain": [
              "True"
            ]
          },
          "metadata": {},
          "execution_count": 23
        }
      ]
    },
    {
      "cell_type": "code",
      "source": [
        "## Count the number of subsequence which sum is 2\n",
        "arr=[1,1,2]\n",
        "def s_seq(i,a,s):\n",
        "  n=len(arr)\n",
        "  if i==n:\n",
        "    if s==sum:\n",
        "      return 1\n",
        "    return 0\n",
        "\n",
        "  a.append(arr[i])\n",
        "  s+=arr[i]\n",
        "  l=s_seq(i+1,a,s)\n",
        "  a.remove(arr[i])\n",
        "  s-=arr[i]\n",
        "  r=s_seq(i+1,a,s)\n",
        "  return l+r\n",
        "a=[]\n",
        "sum=4\n",
        "s_seq(0,a,0)"
      ],
      "metadata": {
        "colab": {
          "base_uri": "https://localhost:8080/"
        },
        "id": "Bc0HInHK8DqS",
        "outputId": "95e55f56-6449-4f6c-bdaa-04ac3ab62015"
      },
      "execution_count": null,
      "outputs": [
        {
          "output_type": "execute_result",
          "data": {
            "text/plain": [
              "1"
            ]
          },
          "metadata": {},
          "execution_count": 24
        }
      ]
    },
    {
      "cell_type": "markdown",
      "source": [
        "### **Sum of all possible subsequences in sorted order**"
      ],
      "metadata": {
        "id": "hUFmW6ZLA4we"
      }
    },
    {
      "cell_type": "code",
      "source": [
        "# Sum of all possible subsequences in sorted order\n",
        "def seqSum(ind,sum,arr,sumSubset=[]):\n",
        "    N=len(arr)\n",
        "    if ind==N:\n",
        "        sumSubset.append(sum)\n",
        "        return\n",
        "    # Pick element\n",
        "    seqSum(ind+1,sum+arr[ind],arr,sumSubset)\n",
        "\n",
        "    # Not pic element\n",
        "    seqSum(ind+1,sum,arr,sumSubset)\n",
        "    return sorted(sumSubset)\n",
        "arr=[3,1,2]\n",
        "print(seqSum(0,0,arr))"
      ],
      "metadata": {
        "colab": {
          "base_uri": "https://localhost:8080/"
        },
        "id": "IoNPgMcf8DtB",
        "outputId": "6df00cd1-199b-4e76-ee39-afad454464c0"
      },
      "execution_count": null,
      "outputs": [
        {
          "output_type": "stream",
          "name": "stdout",
          "text": [
            "[0, 1, 2, 3, 3, 4, 5, 6]\n"
          ]
        }
      ]
    },
    {
      "cell_type": "markdown",
      "source": [
        "### **Generate Subsequence of array without duplicate**"
      ],
      "metadata": {
        "id": "iYVmHKRlBDDV"
      }
    },
    {
      "cell_type": "code",
      "source": [
        "# Generate Subsequence of array without duplicate\n",
        "def findUniqueSubset(ind,num,l=[],ans=[]):\n",
        "    ans.append(list(l))\n",
        "    for i in range(ind,len(num)):\n",
        "        if i!=ind and num[i]==num[i-1]:\n",
        "            continue\n",
        "        l.append(num[i])\n",
        "        findUniqueSubset(i+1,num,l,ans)\n",
        "        l.pop()\n",
        "    return ans\n",
        "\n",
        "print(findUniqueSubset(0,sorted([1,2,2])))"
      ],
      "metadata": {
        "colab": {
          "base_uri": "https://localhost:8080/"
        },
        "id": "LpVj-SSl8Dv6",
        "outputId": "bde64b7e-5ff8-4302-9a10-f18df520f081"
      },
      "execution_count": null,
      "outputs": [
        {
          "output_type": "stream",
          "name": "stdout",
          "text": [
            "[[], [1], [1, 2], [1, 2, 2], [2], [2, 2]]\n"
          ]
        }
      ]
    },
    {
      "cell_type": "markdown",
      "source": [
        "### **Find The all permutation of given string**"
      ],
      "metadata": {
        "id": "yiXLMh4_Bld8"
      }
    },
    {
      "cell_type": "code",
      "source": [
        "# TC :O(!n*n)\n",
        "# SC: O(n)+O(n)\n",
        "ans=[]\n",
        "def perm(nums,freq:list[int],ds=[]):\n",
        "  if len(ds)==len(nums):\n",
        "    ans.append(ds[:])\n",
        "    return\n",
        "  for i in range(len(nums)):\n",
        "    if not freq[i]:\n",
        "      freq[i]=1\n",
        "      ds.append(nums[i])\n",
        "      perm(nums,freq,ds)\n",
        "      freq[i]=0\n",
        "      ds.pop()\n",
        "nums=[1,2,3]\n",
        "freq=[0]*len(nums)\n",
        "perm(nums,freq)\n",
        "print(ans)"
      ],
      "metadata": {
        "colab": {
          "base_uri": "https://localhost:8080/"
        },
        "id": "jyEnqEZB8Dyu",
        "outputId": "b59425de-69a5-4280-931c-d5853b196b19"
      },
      "execution_count": null,
      "outputs": [
        {
          "output_type": "stream",
          "name": "stdout",
          "text": [
            "[[1, 2, 3], [1, 3, 2], [2, 1, 3], [2, 3, 1], [3, 1, 2], [3, 2, 1]]\n"
          ]
        }
      ]
    },
    {
      "cell_type": "code",
      "source": [
        "def get_permutation(string, i=0):\n",
        "\n",
        "    if i == len(string):\n",
        "        print(\"\".join(string))\n",
        "\n",
        "    for j in range(i, len(string)):\n",
        "\n",
        "        words = [c for c in string]\n",
        "\n",
        "        # swap\n",
        "        words[i], words[j] = words[j], words[i]\n",
        "\n",
        "        get_permutation(words, i + 1)\n",
        "\n",
        "get_permutation('abc')"
      ],
      "metadata": {
        "colab": {
          "base_uri": "https://localhost:8080/"
        },
        "id": "1hHv8lqk8D1e",
        "outputId": "ba83310e-d741-46da-da91-138a06ec0802"
      },
      "execution_count": null,
      "outputs": [
        {
          "output_type": "stream",
          "name": "stdout",
          "text": [
            "abc\n",
            "acb\n",
            "bac\n",
            "bca\n",
            "cba\n",
            "cab\n"
          ]
        }
      ]
    },
    {
      "cell_type": "code",
      "source": [
        "def get_permutation(string, i=0):\n",
        "\n",
        "    if i == len(string):\n",
        "        print(\"\".join(string))\n",
        "\n",
        "    for j in range(i,len(string)):\n",
        "        # swap\n",
        "        string[i], string[j] = string[j], string[i]\n",
        "        get_permutation(string, i + 1)\n",
        "        string[i], string[j] = string[j], string[i]\n",
        "s=['a','b','c']\n",
        "get_permutation(s)"
      ],
      "metadata": {
        "colab": {
          "base_uri": "https://localhost:8080/"
        },
        "id": "9VDvae808D4W",
        "outputId": "9c3af3c1-7d0a-4d71-b941-8bdaa1630799"
      },
      "execution_count": null,
      "outputs": [
        {
          "output_type": "stream",
          "name": "stdout",
          "text": [
            "abc\n",
            "acb\n",
            "bac\n",
            "bca\n",
            "cba\n",
            "cab\n"
          ]
        }
      ]
    },
    {
      "cell_type": "code",
      "source": [
        "# TC: O(!n)*O(n)\n",
        "def get_permutation(arr, i=0):\n",
        "    if i == len(arr):\n",
        "      print(arr)\n",
        "    for j in range(i, len(arr)):\n",
        "        # swap\n",
        "        arr[i], arr[j] = arr[j], arr[i]\n",
        "        get_permutation(arr, i + 1)\n",
        "        arr[i], arr[j] = arr[j], arr[i]\n",
        "arr=[1,2,3]\n",
        "get_permutation(arr)"
      ],
      "metadata": {
        "colab": {
          "base_uri": "https://localhost:8080/"
        },
        "id": "a9bkyZ8H8D7K",
        "outputId": "590c462e-d247-4860-e61d-bf1124db3c0b"
      },
      "execution_count": null,
      "outputs": [
        {
          "output_type": "stream",
          "name": "stdout",
          "text": [
            "[1, 2, 3]\n",
            "[1, 3, 2]\n",
            "[2, 1, 3]\n",
            "[2, 3, 1]\n",
            "[3, 2, 1]\n",
            "[3, 1, 2]\n"
          ]
        }
      ]
    },
    {
      "cell_type": "code",
      "source": [
        "ans=[]\n",
        "def get_permutation(arr, i=0):\n",
        "    if i == len(arr):\n",
        "      ans.append(list(arr))\n",
        "      #or us this ans.append(arr[:])\n",
        "    for j in range(i, len(arr)):\n",
        "        # swap\n",
        "        arr[i], arr[j] = arr[j], arr[i]\n",
        "        get_permutation(arr, i + 1)\n",
        "        arr[i], arr[j] = arr[j], arr[i]\n",
        "arr=[1,2,3]\n",
        "get_permutation(arr)\n",
        "print(ans)"
      ],
      "metadata": {
        "colab": {
          "base_uri": "https://localhost:8080/"
        },
        "id": "npYMAlpC8D-A",
        "outputId": "a836fd35-0965-4d0c-9187-2bcb164db5c0"
      },
      "execution_count": null,
      "outputs": [
        {
          "output_type": "stream",
          "name": "stdout",
          "text": [
            "[[1, 2, 3], [1, 3, 2], [2, 1, 3], [2, 3, 1], [3, 2, 1], [3, 1, 2]]\n"
          ]
        }
      ]
    },
    {
      "cell_type": "code",
      "source": [
        "from itertools import permutations\n",
        "s='abc'\n",
        "words = [''.join(p) for p in permutations(s)]\n",
        "\n",
        "print(words)"
      ],
      "metadata": {
        "colab": {
          "base_uri": "https://localhost:8080/"
        },
        "id": "BhO2-qM58EAj",
        "outputId": "c0bf2103-c669-4c67-e049-efc3ee0388f6"
      },
      "execution_count": null,
      "outputs": [
        {
          "output_type": "stream",
          "name": "stdout",
          "text": [
            "['abc', 'acb', 'bac', 'bca', 'cab', 'cba']\n"
          ]
        }
      ]
    },
    {
      "cell_type": "markdown",
      "source": [
        "### **Subsequence Of string**\n"
      ],
      "metadata": {
        "id": "7LhNZ5P9CcG0"
      }
    },
    {
      "cell_type": "code",
      "source": [
        "arr=['a','b','c']\n",
        "def sub_sequence(i=0,seq=[]):\n",
        "  if i>=len(arr):\n",
        "    print(seq)\n",
        "    return\n",
        "  seq.append(arr[i])\n",
        "  sub_sequence(i+1,seq)\n",
        "  seq.remove(arr[i])\n",
        "  sub_sequence(i+1,seq)\n",
        "sub_sequence()"
      ],
      "metadata": {
        "colab": {
          "base_uri": "https://localhost:8080/"
        },
        "id": "iYwveU_e8EDy",
        "outputId": "c55b05a9-8961-449e-88d1-88949d131ab5"
      },
      "execution_count": null,
      "outputs": [
        {
          "output_type": "stream",
          "name": "stdout",
          "text": [
            "['a', 'b', 'c']\n",
            "['a', 'b']\n",
            "['a', 'c']\n",
            "['a']\n",
            "['b', 'c']\n",
            "['b']\n",
            "['c']\n",
            "[]\n"
          ]
        }
      ]
    },
    {
      "cell_type": "code",
      "source": [
        "# TC : O(2**n)*(n)\n",
        "s='abc'\n",
        "def sub_sequence(i=0,seq=''):\n",
        "  if i>=len(s):\n",
        "    print(seq)\n",
        "    return\n",
        "  seq+=s[i]\n",
        "  sub_sequence(i+1,seq)\n",
        "  # seq=seq.replace(s[i],'') some times it not working so use this\n",
        "  seq=seq[:-1]\n",
        "  sub_sequence(i+1,seq)\n",
        "sub_sequence()"
      ],
      "metadata": {
        "colab": {
          "base_uri": "https://localhost:8080/"
        },
        "id": "sr3pjvwL8EGE",
        "outputId": "5671699d-8bd1-4332-ed2b-7727bd29ca03"
      },
      "execution_count": null,
      "outputs": [
        {
          "output_type": "stream",
          "name": "stdout",
          "text": [
            "abc\n",
            "ab\n",
            "ac\n",
            "a\n",
            "bc\n",
            "b\n",
            "c\n",
            "\n"
          ]
        }
      ]
    },
    {
      "cell_type": "markdown",
      "source": [
        "### **Use power set technique to generate subsequence**"
      ],
      "metadata": {
        "id": "dU-FILX6Cpbb"
      }
    },
    {
      "cell_type": "code",
      "source": [
        "# TC : O(2**n)*(n)\n",
        "s='abc'\n",
        "n=len(s)\n",
        "for num in range(2**n):\n",
        "  sub_str=''\n",
        "  for i in range(n):\n",
        "    if num & (1<<i):\n",
        "      sub_str+=s[i]\n",
        "  print(sub_str)\n"
      ],
      "metadata": {
        "colab": {
          "base_uri": "https://localhost:8080/"
        },
        "id": "hml2ODqV8EJP",
        "outputId": "dc4e00fc-b460-43c6-8d47-19986770755a"
      },
      "execution_count": null,
      "outputs": [
        {
          "output_type": "stream",
          "name": "stdout",
          "text": [
            "\n",
            "a\n",
            "b\n",
            "ab\n",
            "c\n",
            "ac\n",
            "bc\n",
            "abc\n"
          ]
        }
      ]
    },
    {
      "cell_type": "code",
      "source": [
        "# TC : O(2**n)*(n)\n",
        "s=[1,2,3]\n",
        "n=len(s)\n",
        "res=[]\n",
        "for num in range(2**n):\n",
        "  ans=[]\n",
        "  for i in range(n):\n",
        "    if num & (1<<i):\n",
        "      ans.append(s[i])\n",
        "  res.append(ans)\n",
        "print(res)"
      ],
      "metadata": {
        "colab": {
          "base_uri": "https://localhost:8080/"
        },
        "id": "W9gW1c6q8EMD",
        "outputId": "52c706ca-c4dc-4d6f-cb9e-57fb3203956d"
      },
      "execution_count": null,
      "outputs": [
        {
          "output_type": "stream",
          "name": "stdout",
          "text": [
            "[[], [1], [2], [1, 2], [3], [1, 3], [2, 3], [1, 2, 3]]\n"
          ]
        }
      ]
    },
    {
      "cell_type": "code",
      "source": [
        "arr=[1,2,3]\n",
        "def sub(i=0,ans=list()):\n",
        "  res=[]\n",
        "  if i>=len(arr):\n",
        "    if ans not in res:\n",
        "      res.append(ans)\n",
        "    return\n",
        "  ans.append(arr[i])\n",
        "  sub(i+1,ans)\n",
        "  ans.remove(arr[i])\n",
        "  sub(i+1,ans)\n",
        "sub()\n",
        "print(res)"
      ],
      "metadata": {
        "colab": {
          "base_uri": "https://localhost:8080/"
        },
        "id": "3Rfe7pDO8EOk",
        "outputId": "1c14adcc-b1d1-4361-bfe5-02d3db6f78cd"
      },
      "execution_count": null,
      "outputs": [
        {
          "output_type": "stream",
          "name": "stdout",
          "text": [
            "[[], [1], [2], [1, 2], [3], [1, 3], [2, 3], [1, 2, 3]]\n"
          ]
        }
      ]
    },
    {
      "cell_type": "markdown",
      "source": [
        "### **All possible combination with given size**"
      ],
      "metadata": {
        "id": "WsHhxQm-DFmi"
      }
    },
    {
      "cell_type": "code",
      "source": [
        "# All possible combination with given size\n",
        "res=[]\n",
        "def solve(start,n,k,temp=[]):\n",
        "  if k==0:\n",
        "    res.append(temp[:])\n",
        "    return\n",
        "  if start>n:\n",
        "    return\n",
        "  temp.append(start)\n",
        "  solve(start+1,n,k-1,temp)\n",
        "  temp.pop()\n",
        "  solve(start+1,n,k,temp)\n",
        "  return res\n",
        "\n",
        "solve(1,5,3)"
      ],
      "metadata": {
        "colab": {
          "base_uri": "https://localhost:8080/"
        },
        "id": "7sd0w_Uk8ER6",
        "outputId": "2844db09-e2e5-4fc9-b284-0d3891d5cf42"
      },
      "execution_count": null,
      "outputs": [
        {
          "output_type": "execute_result",
          "data": {
            "text/plain": [
              "[[1, 2, 3],\n",
              " [1, 2, 4],\n",
              " [1, 2, 5],\n",
              " [1, 3, 4],\n",
              " [1, 3, 5],\n",
              " [1, 4, 5],\n",
              " [2, 3, 4],\n",
              " [2, 3, 5],\n",
              " [2, 4, 5],\n",
              " [3, 4, 5]]"
            ]
          },
          "metadata": {},
          "execution_count": 38
        }
      ]
    },
    {
      "cell_type": "code",
      "source": [
        "# With the use of for loop\n",
        "ans=[]\n",
        "def solve(start,n,k,temp=[]):\n",
        "  if k==0:\n",
        "    ans.append(temp[:])\n",
        "    return\n",
        "  if start>n:\n",
        "    return\n",
        "  for i in range(start,n+1):\n",
        "    temp.append(i)\n",
        "    solve(i+1,n,k-1,temp)\n",
        "    temp.remove(i)\n",
        "  return ans\n",
        "solve(1,5,3)"
      ],
      "metadata": {
        "colab": {
          "base_uri": "https://localhost:8080/"
        },
        "id": "g2LwCy-t8EU2",
        "outputId": "e0380c77-2ae4-4820-a112-3fe6dd8330b4"
      },
      "execution_count": null,
      "outputs": [
        {
          "output_type": "execute_result",
          "data": {
            "text/plain": [
              "[[1, 2, 3],\n",
              " [1, 2, 4],\n",
              " [1, 2, 5],\n",
              " [1, 3, 4],\n",
              " [1, 3, 5],\n",
              " [1, 4, 5],\n",
              " [2, 3, 4],\n",
              " [2, 3, 5],\n",
              " [2, 4, 5],\n",
              " [3, 4, 5]]"
            ]
          },
          "metadata": {},
          "execution_count": 39
        }
      ]
    },
    {
      "cell_type": "markdown",
      "source": [
        "### **All possible combanation with give size and sum**"
      ],
      "metadata": {
        "id": "5-N1iAgtDW44"
      }
    },
    {
      "cell_type": "code",
      "source": [
        "# Digit will not be dublicate\n",
        "res=[]\n",
        "def solve(start,n,k,temp=[]):\n",
        "  if k==0:\n",
        "    if sum(temp)==n:\n",
        "      res.append(temp[:])\n",
        "    return\n",
        "  if start>n:\n",
        "    return\n",
        "  temp.append(start)\n",
        "  solve(start+1,n,k-1,temp)\n",
        "  temp.pop()\n",
        "  solve(start+1,n,k,temp)\n",
        "  return res\n",
        "\n",
        "solve(1,7,3)"
      ],
      "metadata": {
        "colab": {
          "base_uri": "https://localhost:8080/"
        },
        "id": "nmFyEyDL8EXc",
        "outputId": "387c52e8-4918-4f4d-f95b-e98791e36d3b"
      },
      "execution_count": null,
      "outputs": [
        {
          "output_type": "execute_result",
          "data": {
            "text/plain": [
              "[[1, 2, 4]]"
            ]
          },
          "metadata": {},
          "execution_count": 11
        }
      ]
    },
    {
      "cell_type": "code",
      "source": [
        "# Digit may or may not be dublicate\n",
        "def cmbsum(i,arr, target,l=[]):\n",
        "  if i==len(arr):\n",
        "      if target==0:\n",
        "        print(l)\n",
        "      return\n",
        "  if arr[i]<=target:\n",
        "      l.append(arr[i])\n",
        "      cmbsum(0,arr,target-arr[i],l)\n",
        "      l.remove(arr[i])\n",
        "  cmbsum(i+1,arr,target,l)\n",
        "nums = [1,2,3]\n",
        "target = 4\n",
        "cmbsum(0,nums,target)"
      ],
      "metadata": {
        "colab": {
          "base_uri": "https://localhost:8080/"
        },
        "id": "dABZhKRH8EaT",
        "outputId": "0cecc226-bb6f-4580-8826-856b378d3c69"
      },
      "execution_count": null,
      "outputs": [
        {
          "output_type": "stream",
          "name": "stdout",
          "text": [
            "[1, 1, 1, 1]\n",
            "[1, 1, 2]\n",
            "[1, 2, 1]\n",
            "[1, 3]\n",
            "[2, 1, 1]\n",
            "[2, 2]\n",
            "[3, 1]\n"
          ]
        }
      ]
    },
    {
      "cell_type": "code",
      "source": [
        "def solve(idx,target,arr):\n",
        "  if target==0:\n",
        "    return 1\n",
        "  if idx>=len(arr) or target<0:\n",
        "    return 0\n",
        "  take_idx=solve(0,target-arr[idx],arr)\n",
        "  not_take=solve(idx+1,target,arr)\n",
        "  return take_idx+not_take\n",
        "nums = [1,2,3]\n",
        "target = 4\n",
        "solve(0,target,nums)"
      ],
      "metadata": {
        "colab": {
          "base_uri": "https://localhost:8080/"
        },
        "id": "lf27jgg28EdG",
        "outputId": "bee85527-2ced-433c-cd95-aa2a66aedc8c"
      },
      "execution_count": null,
      "outputs": [
        {
          "output_type": "execute_result",
          "data": {
            "text/plain": [
              "7"
            ]
          },
          "metadata": {},
          "execution_count": 41
        }
      ]
    },
    {
      "cell_type": "markdown",
      "source": [
        "### **Memozation**"
      ],
      "metadata": {
        "id": "UxMOxmsrDpOZ"
      }
    },
    {
      "cell_type": "code",
      "source": [
        "def fibonacci(n):\n",
        "  if n==1:\n",
        "    return 1\n",
        "  if n==2:\n",
        "    return 1\n",
        "  if n>2:\n",
        "    return fibonacci(n-1)+fibonacci(n-2)\n",
        "for i in range(1,11):\n",
        "  print(fibonacci(i))"
      ],
      "metadata": {
        "colab": {
          "base_uri": "https://localhost:8080/"
        },
        "id": "hpAMZsUu8EgM",
        "outputId": "aff0459c-75c9-4b1f-948d-ac856c8218ef"
      },
      "execution_count": null,
      "outputs": [
        {
          "output_type": "stream",
          "name": "stdout",
          "text": [
            "1\n",
            "1\n",
            "2\n",
            "3\n",
            "5\n",
            "8\n",
            "13\n",
            "21\n",
            "34\n",
            "55\n"
          ]
        }
      ]
    },
    {
      "cell_type": "code",
      "source": [
        "# Using this we can calculate for long value\n",
        "fibonacci_memo={}\n",
        "def fibonacci(n):\n",
        "  if n in fibonacci_memo:\n",
        "    return fibonacci_memo[n]\n",
        "  if n==1:\n",
        "    value=1\n",
        "  if n==2:\n",
        "    value=1\n",
        "  if n>2:\n",
        "    value=fibonacci(n-1)+fibonacci(n-2)\n",
        "  fibonacci_memo[n]=value\n",
        "  return value\n",
        "for i in range(1,10):\n",
        "  print(fibonacci(i))"
      ],
      "metadata": {
        "colab": {
          "base_uri": "https://localhost:8080/"
        },
        "id": "u5xbPTwV8Ei7",
        "outputId": "266e3acf-0238-407d-9ec2-80218ec607da"
      },
      "execution_count": null,
      "outputs": [
        {
          "output_type": "stream",
          "name": "stdout",
          "text": [
            "1\n",
            "1\n",
            "2\n",
            "3\n",
            "5\n",
            "8\n",
            "13\n",
            "21\n",
            "34\n"
          ]
        }
      ]
    },
    {
      "cell_type": "code",
      "source": [
        "from functools import lru_cache\n",
        "@lru_cache(maxsize=1000)\n",
        "def fibonacci(n):\n",
        "  if n==1:\n",
        "    return 1\n",
        "  if n==2:\n",
        "    return 1\n",
        "  if n>2:\n",
        "    return fibonacci(n-1)+fibonacci(n-2)\n",
        "for i in range(1,11):\n",
        "  print(fibonacci(i))\n"
      ],
      "metadata": {
        "colab": {
          "base_uri": "https://localhost:8080/"
        },
        "id": "NnDXcUnj8Elk",
        "outputId": "b5350ca1-7ea5-4867-d5c5-20e9a1ec7a93"
      },
      "execution_count": null,
      "outputs": [
        {
          "output_type": "stream",
          "name": "stdout",
          "text": [
            "1\n",
            "1\n",
            "2\n",
            "3\n",
            "5\n",
            "8\n",
            "13\n",
            "21\n",
            "34\n",
            "55\n"
          ]
        }
      ]
    },
    {
      "cell_type": "code",
      "source": [
        "# Degit repeate any numbers times\n",
        "# Combination Sum I\n",
        "ans=[]\n",
        "def cmbsum(i,arr, target,l=[]):\n",
        "  if i==len(arr):\n",
        "    if target==0:\n",
        "      ans.append(l[:])\n",
        "    return\n",
        "  if arr[i]<=target:\n",
        "    l.append(arr[i])\n",
        "    cmbsum(i,arr,target-arr[i],l)\n",
        "    l.remove(arr[i])\n",
        "  cmbsum(i+1,arr,target,l)\n",
        "arr=[2,3,6,7]\n",
        "target = 7\n",
        "cmbsum(0,arr,target)\n",
        "print(ans)"
      ],
      "metadata": {
        "colab": {
          "base_uri": "https://localhost:8080/"
        },
        "id": "P_Zyp1B68Era",
        "outputId": "cebfc97f-9ffb-4719-bfa6-52c1ecf27cc2"
      },
      "execution_count": null,
      "outputs": [
        {
          "output_type": "stream",
          "name": "stdout",
          "text": [
            "[[2, 2, 3], [7]]\n"
          ]
        }
      ]
    },
    {
      "cell_type": "code",
      "source": [
        "ans=set()\n",
        "def solve(idx,nums,target,temp=[]):\n",
        "  if target==0:\n",
        "    temp.sort()\n",
        "    ans.add(tuple(temp[:]))\n",
        "    return\n",
        "  if idx>=len(nums) or target<0:\n",
        "    return\n",
        "  temp.append(nums[idx])\n",
        "  solve(0,nums,target-nums[idx])\n",
        "  temp.remove(nums[idx])\n",
        "  solve(idx+1,nums,target)\n",
        "nums = [2,3,6,7]\n",
        "target = 7\n",
        "solve(0,nums,target)\n",
        "print(ans)\n"
      ],
      "metadata": {
        "colab": {
          "base_uri": "https://localhost:8080/"
        },
        "id": "FARR_okv8Ety",
        "outputId": "8c4ae4ae-f022-469d-8ce4-a5e82e19d38b"
      },
      "execution_count": null,
      "outputs": [
        {
          "output_type": "stream",
          "name": "stdout",
          "text": [
            "{(2, 2, 3), (7,)}\n"
          ]
        }
      ]
    },
    {
      "cell_type": "code",
      "source": [
        "# Degit not repate\n",
        "# Combination Sum II\n",
        "ans=set()\n",
        "def cmbsum(ind,arr,target,ds=[]):\n",
        "  if target==0:\n",
        "      ans.add(tuple(ds))\n",
        "      return\n",
        "  for i in range(ind,len(arr)):\n",
        "      if i>ind and arr[i]==arr[i-1]:\n",
        "          continue\n",
        "      if arr[i]>target:\n",
        "          break\n",
        "      ds.append(arr[i])\n",
        "      cmbsum(i+1,arr,target-arr[i],ds)\n",
        "      ds.pop()\n",
        "candidates=[2,3,6,7]\n",
        "target = 7\n",
        "candidates.sort()\n",
        "cmbsum(0,candidates,target)\n",
        "print(ans)"
      ],
      "metadata": {
        "colab": {
          "base_uri": "https://localhost:8080/"
        },
        "id": "iiJYpXTU8Ew0",
        "outputId": "616dd3cb-4fd2-4281-93db-038aa3477208"
      },
      "execution_count": null,
      "outputs": [
        {
          "output_type": "stream",
          "name": "stdout",
          "text": [
            "{(7,)}\n"
          ]
        }
      ]
    },
    {
      "cell_type": "code",
      "source": [
        "# Combination Sum\n",
        "ans=[]\n",
        "def solve(idx,nums,target,temp=[]):\n",
        "  if target==0:\n",
        "    ans.append(temp[:])\n",
        "    return\n",
        "  if idx>=len(nums) or target<0:\n",
        "    return\n",
        "  temp.append(nums[idx])\n",
        "  solve(idx+1,nums,target-nums[idx])\n",
        "  temp.remove(nums[idx])\n",
        "  solve(idx+1,nums,target)\n",
        "nums = [2,3,6,7,4]\n",
        "target = 7\n",
        "solve(0,nums,target)\n",
        "print(ans)\n"
      ],
      "metadata": {
        "colab": {
          "base_uri": "https://localhost:8080/"
        },
        "id": "z9LOukmr8E0V",
        "outputId": "6e58d67e-d708-49cb-e421-2f13740dcad5"
      },
      "execution_count": null,
      "outputs": [
        {
          "output_type": "stream",
          "name": "stdout",
          "text": [
            "[[3, 4], [7]]\n"
          ]
        }
      ]
    },
    {
      "cell_type": "markdown",
      "source": [
        "### **Subset Sum**"
      ],
      "metadata": {
        "id": "vAb2Ip8vGgaF"
      }
    },
    {
      "cell_type": "code",
      "source": [
        "# TC: 2**n +2**nlog2**n\n",
        "def sub_set_sum(arr,i=0,sum=0):\n",
        "  if i==len(arr):\n",
        "    print(sum)\n",
        "    return\n",
        "  sub_set_sum(arr,i+1,sum+arr[i])\n",
        "  sub_set_sum(arr,i+1,sum)\n",
        "arr=[3,2,1]\n",
        "sub_set_sum(arr,i=0,sum=0)"
      ],
      "metadata": {
        "colab": {
          "base_uri": "https://localhost:8080/"
        },
        "id": "p_xCxDOJGjUT",
        "outputId": "72335226-dcb6-48d6-c633-a46aa8d0ea15"
      },
      "execution_count": null,
      "outputs": [
        {
          "output_type": "stream",
          "name": "stdout",
          "text": [
            "6\n",
            "5\n",
            "4\n",
            "3\n",
            "3\n",
            "2\n",
            "1\n",
            "0\n"
          ]
        }
      ]
    },
    {
      "cell_type": "code",
      "source": [
        "res=[]\n",
        "def solve(start,n,k,temp=[]):\n",
        "  if k==0:\n",
        "    if sum(temp)==n:\n",
        "      res.append(temp[:])\n",
        "    return\n",
        "  if start>n:\n",
        "    return\n",
        "  temp.append(start)\n",
        "  solve(start+1,n,k-1,temp)\n",
        "  temp.pop()\n",
        "  solve(start+1,n,k,temp)\n",
        "  return res\n",
        "solve(1,7,3)"
      ],
      "metadata": {
        "colab": {
          "base_uri": "https://localhost:8080/"
        },
        "id": "hD_M6DvGGqkR",
        "outputId": "5fb14713-555e-433c-bd2a-a280bc6da1a6"
      },
      "execution_count": null,
      "outputs": [
        {
          "output_type": "execute_result",
          "data": {
            "text/plain": [
              "[[1, 2, 4]]"
            ]
          },
          "metadata": {},
          "execution_count": 1
        }
      ]
    },
    {
      "cell_type": "code",
      "source": [
        "res=[]\n",
        "def solve(start,n,k,temp=[]):\n",
        "  arr=[i for i in range(1,n) if i<n]\n",
        "  if k==0:\n",
        "    if sum(temp)==n:\n",
        "      res.append(temp[:])\n",
        "      return\n",
        "  if start>=len(arr):\n",
        "    return\n",
        "  temp.append(arr[start])\n",
        "  solve(start+1,n,k-1,temp)\n",
        "  temp.remove(arr[start])\n",
        "  solve(start+1,n,k,temp)\n",
        "  return res\n",
        "solve(0,7,3)"
      ],
      "metadata": {
        "colab": {
          "base_uri": "https://localhost:8080/"
        },
        "id": "6goavVOe8E3v",
        "outputId": "673be183-2b3a-42b6-9756-b7ab8c272b74"
      },
      "execution_count": null,
      "outputs": [
        {
          "output_type": "execute_result",
          "data": {
            "text/plain": [
              "[[1, 2, 4]]"
            ]
          },
          "metadata": {},
          "execution_count": 2
        }
      ]
    },
    {
      "cell_type": "markdown",
      "source": [
        "### **Letter Combinations of a Phone Number**"
      ],
      "metadata": {
        "id": "y-HuC_hhIBOD"
      }
    },
    {
      "cell_type": "code",
      "source": [
        "def letterCombinations(digits):\n",
        "  d={'1':[None],'2':['a','b','c'],'3':['d','e','f'],'4':['g','h','i'],\n",
        "  '5':['j','k','l'],'6':['m','n','o'],'7':['p','q','r','s'],'8':['t','u','v'],'9':['w','x','y','z'],'0':[None]}\n",
        "  n=len(digits)\n",
        "  arr=[]\n",
        "\n",
        "  for i in digits:\n",
        "    arr.extend(d[i])\n",
        "  print(arr)\n",
        "  ans=[]\n",
        "  def solve(idx,arr,n,temp=[]):\n",
        "    if n==0:\n",
        "      ans.append(temp[:])\n",
        "      return\n",
        "    if idx>=len(arr) or n<0:\n",
        "      return\n",
        "    temp.append(arr[idx])\n",
        "    solve(idx+1,arr,n-1)\n",
        "    temp.remove(arr[idx])\n",
        "    solve(idx+1,arr,n)\n",
        "  solve(0,arr,n)\n",
        "  return ans\n",
        "\n",
        "\n",
        "digits=\"23\"\n",
        "letterCombinations(digits)"
      ],
      "metadata": {
        "colab": {
          "base_uri": "https://localhost:8080/"
        },
        "id": "xBJzcjK88E-K",
        "outputId": "9b76ec2d-8a75-4da1-b503-6cee2d46760c"
      },
      "execution_count": null,
      "outputs": [
        {
          "output_type": "stream",
          "name": "stdout",
          "text": [
            "['a', 'b', 'c', 'd', 'e', 'f']\n"
          ]
        },
        {
          "output_type": "execute_result",
          "data": {
            "text/plain": [
              "[['a', 'b'],\n",
              " ['a', 'c'],\n",
              " ['a', 'd'],\n",
              " ['a', 'e'],\n",
              " ['a', 'f'],\n",
              " ['b', 'c'],\n",
              " ['b', 'd'],\n",
              " ['b', 'e'],\n",
              " ['b', 'f'],\n",
              " ['c', 'd'],\n",
              " ['c', 'e'],\n",
              " ['c', 'f'],\n",
              " ['d', 'e'],\n",
              " ['d', 'f'],\n",
              " ['e', 'f']]"
            ]
          },
          "metadata": {},
          "execution_count": 4
        }
      ]
    },
    {
      "cell_type": "code",
      "source": [
        "result=[]\n",
        "def solve(idx,digits,d,temp=[]):\n",
        "  if len(digits)==0:\n",
        "    return\n",
        "  if idx>=len(digits):\n",
        "      # global result\n",
        "      result.append(temp[:])\n",
        "      return\n",
        "  ch=digits[idx]\n",
        "  s=d[ch]\n",
        "  for i in range(len(s)):\n",
        "    temp.append(s[i])\n",
        "    solve(idx+1,digits,d,temp)\n",
        "    temp.pop()\n",
        "\n",
        "d={'2':'abc','3':'def','4':'ghi','5':'jkl','6':'mno','7':'pqrs'\n",
        ",'8':'tuv','9':'wxyz'}\n",
        "digits=\"23\"\n",
        "solve(0,digits,d)\n",
        "print(result)\n"
      ],
      "metadata": {
        "colab": {
          "base_uri": "https://localhost:8080/"
        },
        "id": "q954eiszH22l",
        "outputId": "551bb958-9698-4e85-a56f-6fe724d0c74d"
      },
      "execution_count": null,
      "outputs": [
        {
          "output_type": "stream",
          "name": "stdout",
          "text": [
            "[['a', 'd'], ['a', 'e'], ['a', 'f'], ['b', 'd'], ['b', 'e'], ['b', 'f'], ['c', 'd'], ['c', 'e'], ['c', 'f']]\n"
          ]
        }
      ]
    },
    {
      "cell_type": "code",
      "source": [
        "result=[]\n",
        "def solve(idx,digits,d,temp=''):\n",
        "  if len(digits)==0:\n",
        "    return\n",
        "  if idx>=len(digits):\n",
        "    global result\n",
        "    result.append(temp)\n",
        "    return\n",
        "  ch=digits[idx]\n",
        "  s=d[ch]\n",
        "  for i in range(len(s)):\n",
        "    temp+=s[i]\n",
        "    solve(idx+1,digits,d,temp)\n",
        "    #temp=temp.replace(s[i],'') # Some time it not working give wrong output so use\n",
        "    temp=temp[:-1]\n",
        "\n",
        "d={'2':'abc','3':'def','4':'ghi','5':'jkl','6':'mno','7':'pqrs'\n",
        ",'8':'tuv','9':'wxyz'}\n",
        "digits=\"22\"\n",
        "solve(0,digits,d)\n",
        "print(result)\n"
      ],
      "metadata": {
        "colab": {
          "base_uri": "https://localhost:8080/"
        },
        "id": "kYPOBoNyH24q",
        "outputId": "2409b1cc-fc27-4621-f28d-360c1f4868b0"
      },
      "execution_count": null,
      "outputs": [
        {
          "output_type": "stream",
          "name": "stdout",
          "text": [
            "['aa', 'ab', 'ac', 'ba', 'bb', 'bc', 'ca', 'cb', 'cc']\n"
          ]
        }
      ]
    },
    {
      "cell_type": "markdown",
      "source": [
        "### **Generate Parentheses**"
      ],
      "metadata": {
        "id": "B6-g2OkQIRdP"
      }
    },
    {
      "cell_type": "code",
      "source": [
        "res=[]\n",
        "def isValid(s):\n",
        "  count=0\n",
        "  for ch in s:\n",
        "    if ch=='(':\n",
        "      count+=1\n",
        "    else:\n",
        "      count-=1\n",
        "      if count<0:\n",
        "        return False\n",
        "  if count==0:\n",
        "    return True\n",
        "  else:\n",
        "    return False\n",
        "\n",
        "def solve(n,curr=''):\n",
        "  if len(curr)==2*n:\n",
        "    #print(curr)\n",
        "    if isValid(curr):\n",
        "      res.append(curr[:])\n",
        "    return\n",
        "  curr+=\"(\"\n",
        "  solve(n,curr)\n",
        "  curr=curr[:-1]\n",
        "\n",
        "  curr+=\")\"\n",
        "  solve(n,curr)\n",
        "  curr=curr[:-1]\n",
        "n=2\n",
        "solve(n)\n",
        "print(res)"
      ],
      "metadata": {
        "colab": {
          "base_uri": "https://localhost:8080/"
        },
        "id": "5VSbQO7xH28U",
        "outputId": "faa7338a-80bb-4ea5-d72f-eebff8f0f951"
      },
      "execution_count": null,
      "outputs": [
        {
          "output_type": "stream",
          "name": "stdout",
          "text": [
            "['(())', '()()']\n"
          ]
        }
      ]
    },
    {
      "cell_type": "code",
      "source": [
        "res=[]\n",
        "def solve(n,curr='',op=0,close=0):\n",
        "  if len(curr)==2*n:\n",
        "    res.append(curr[:])\n",
        "    return\n",
        "  if op<n:\n",
        "    curr+=\"(\"\n",
        "    solve(n,curr,op+1,close)\n",
        "    curr=curr[:-1]\n",
        "  if close<op:\n",
        "    curr+=\")\"\n",
        "    solve(n,curr,op,close+1)\n",
        "    curr=curr[:-1]\n",
        "n=2\n",
        "solve(n)\n",
        "print(res)\n"
      ],
      "metadata": {
        "colab": {
          "base_uri": "https://localhost:8080/"
        },
        "id": "vAPlAe3WH2-e",
        "outputId": "d9ef1f5e-ff94-4b7d-c6d8-3f916cce66cf"
      },
      "execution_count": null,
      "outputs": [
        {
          "output_type": "stream",
          "name": "stdout",
          "text": [
            "['(())', '()()']\n"
          ]
        }
      ]
    },
    {
      "cell_type": "markdown",
      "source": [
        "### **Longest Common Subsequence**"
      ],
      "metadata": {
        "id": "PDwLQB9SIe8g"
      }
    },
    {
      "cell_type": "code",
      "source": [
        "def f(text1,text2,i,j):\n",
        "  if (i<0 or j<0):\n",
        "      return 0\n",
        "  if text1[i]==text2[j]:\n",
        "      return 1+f(text1,text2,i-1,j-1)\n",
        "  else:\n",
        "      return max(f(text1,text2,i-1,j),f(text1,text2,i,j-1))\n",
        "\n",
        "text1=\"abcde\"\n",
        "text2='acdefgthb'\n",
        "i=len(text1)-1\n",
        "j=len(text2)-1\n",
        "f(text1,text2,i,j)"
      ],
      "metadata": {
        "colab": {
          "base_uri": "https://localhost:8080/"
        },
        "id": "MMewq8kKH3CG",
        "outputId": "12214c03-0dd1-4ab0-b3ea-2968f824299b"
      },
      "execution_count": null,
      "outputs": [
        {
          "output_type": "execute_result",
          "data": {
            "text/plain": [
              "4"
            ]
          },
          "metadata": {},
          "execution_count": 9
        }
      ]
    },
    {
      "cell_type": "markdown",
      "source": [
        "### **Palindrome Partitioning**"
      ],
      "metadata": {
        "id": "OotBsQpWIo43"
      }
    },
    {
      "cell_type": "code",
      "source": [
        "# TC: O(2**n*n)\n",
        "def isPalindrome(s):\n",
        "  if s==s[::-1]:\n",
        "    return True\n",
        "  return False\n",
        "\n",
        "def solve(idx,s,curr=[],result=[]):\n",
        "  if idx==len(s):\n",
        "    result.append(curr[:])\n",
        "    return\n",
        "  for i in range(idx,len(s)):\n",
        "    if isPalindrome(s[idx:i+1]):\n",
        "      curr.append(s[idx:i+1])\n",
        "      solve(i+1,s,curr,result)\n",
        "      curr.pop()\n",
        "  return result\n",
        "idx=0\n",
        "s='aab'\n",
        "solve(idx,s,curr=[],result=[])"
      ],
      "metadata": {
        "colab": {
          "base_uri": "https://localhost:8080/"
        },
        "id": "FOd1llibIoMW",
        "outputId": "4d4c5b9c-306f-4ae1-e497-9034d510ace9"
      },
      "execution_count": null,
      "outputs": [
        {
          "output_type": "execute_result",
          "data": {
            "text/plain": [
              "[['a', 'a', 'b'], ['aa', 'b']]"
            ]
          },
          "metadata": {},
          "execution_count": 10
        }
      ]
    },
    {
      "cell_type": "markdown",
      "source": [
        "### **N-Queens**"
      ],
      "metadata": {
        "id": "lgdc0ZNByRnC"
      }
    },
    {
      "cell_type": "code",
      "source": [
        "from functools import lru_cache\n",
        "lru_cache(ma\n",
        "          )"
      ],
      "metadata": {
        "id": "xJQsiqcyH3Ej",
        "colab": {
          "base_uri": "https://localhost:8080/",
          "height": 315
        },
        "outputId": "1a4fa071-de73-460c-c889-f55651e297b6"
      },
      "execution_count": null,
      "outputs": [
        {
          "output_type": "error",
          "ename": "ImportError",
          "evalue": "cannot import name 'lru_cach' from 'functools' (/usr/lib/python3.10/functools.py)",
          "traceback": [
            "\u001b[0;31m---------------------------------------------------------------------------\u001b[0m",
            "\u001b[0;31mImportError\u001b[0m                               Traceback (most recent call last)",
            "\u001b[0;32m<ipython-input-4-9327aa8ce75f>\u001b[0m in \u001b[0;36m<cell line: 1>\u001b[0;34m()\u001b[0m\n\u001b[0;32m----> 1\u001b[0;31m \u001b[0;32mfrom\u001b[0m \u001b[0mfunctools\u001b[0m \u001b[0;32mimport\u001b[0m \u001b[0mlru_cach\u001b[0m\u001b[0;34m\u001b[0m\u001b[0;34m\u001b[0m\u001b[0m\n\u001b[0m",
            "\u001b[0;31mImportError\u001b[0m: cannot import name 'lru_cach' from 'functools' (/usr/lib/python3.10/functools.py)",
            "",
            "\u001b[0;31m---------------------------------------------------------------------------\u001b[0;32m\nNOTE: If your import is failing due to a missing package, you can\nmanually install dependencies using either !pip or !apt.\n\nTo view examples of installing some common dependencies, click the\n\"Open Examples\" button below.\n\u001b[0;31m---------------------------------------------------------------------------\u001b[0m\n"
          ],
          "errorDetails": {
            "actions": [
              {
                "action": "open_url",
                "actionText": "Open Examples",
                "url": "/notebooks/snippets/importing_libraries.ipynb"
              }
            ]
          }
        }
      ]
    },
    {
      "cell_type": "code",
      "source": [],
      "metadata": {
        "id": "uqCwhgUtH3Hm"
      },
      "execution_count": null,
      "outputs": []
    },
    {
      "cell_type": "code",
      "source": [],
      "metadata": {
        "id": "E8AR8anlH3KF"
      },
      "execution_count": null,
      "outputs": []
    },
    {
      "cell_type": "code",
      "source": [],
      "metadata": {
        "id": "w6yCMJymH3NV"
      },
      "execution_count": null,
      "outputs": []
    },
    {
      "cell_type": "code",
      "source": [],
      "metadata": {
        "id": "ZcQrj6r0H3Pn"
      },
      "execution_count": null,
      "outputs": []
    },
    {
      "cell_type": "code",
      "source": [],
      "metadata": {
        "id": "LnWgs28xH3TY"
      },
      "execution_count": null,
      "outputs": []
    },
    {
      "cell_type": "code",
      "source": [],
      "metadata": {
        "id": "GrXlUhQ4H3Xz"
      },
      "execution_count": null,
      "outputs": []
    },
    {
      "cell_type": "code",
      "source": [],
      "metadata": {
        "id": "mnV0WDDNH3aI"
      },
      "execution_count": null,
      "outputs": []
    },
    {
      "cell_type": "code",
      "source": [],
      "metadata": {
        "id": "Cd70FL9UH3cb"
      },
      "execution_count": null,
      "outputs": []
    },
    {
      "cell_type": "code",
      "source": [],
      "metadata": {
        "id": "FnYbc6JZH3fJ"
      },
      "execution_count": null,
      "outputs": []
    },
    {
      "cell_type": "code",
      "source": [],
      "metadata": {
        "id": "ROyRPCL6H3hS"
      },
      "execution_count": null,
      "outputs": []
    },
    {
      "cell_type": "code",
      "source": [],
      "metadata": {
        "id": "jSWGhv8gH3jq"
      },
      "execution_count": null,
      "outputs": []
    },
    {
      "cell_type": "code",
      "source": [],
      "metadata": {
        "id": "ZUbsOBO0H3mF"
      },
      "execution_count": null,
      "outputs": []
    },
    {
      "cell_type": "code",
      "source": [],
      "metadata": {
        "id": "CBjSxpDhH3p0"
      },
      "execution_count": null,
      "outputs": []
    },
    {
      "cell_type": "code",
      "source": [],
      "metadata": {
        "id": "QN_WyqyxH3sn"
      },
      "execution_count": null,
      "outputs": []
    },
    {
      "cell_type": "code",
      "source": [],
      "metadata": {
        "id": "7NubYZQlH3vN"
      },
      "execution_count": null,
      "outputs": []
    },
    {
      "cell_type": "code",
      "source": [],
      "metadata": {
        "id": "GBHC1063H3xj"
      },
      "execution_count": null,
      "outputs": []
    },
    {
      "cell_type": "code",
      "source": [],
      "metadata": {
        "id": "xr_fIPvgH305"
      },
      "execution_count": null,
      "outputs": []
    },
    {
      "cell_type": "code",
      "source": [],
      "metadata": {
        "id": "-uDw2LBKH33J"
      },
      "execution_count": null,
      "outputs": []
    },
    {
      "cell_type": "code",
      "source": [],
      "metadata": {
        "id": "ujxC2jgHH36i"
      },
      "execution_count": null,
      "outputs": []
    },
    {
      "cell_type": "code",
      "source": [],
      "metadata": {
        "id": "Mm813BtFH39h"
      },
      "execution_count": null,
      "outputs": []
    },
    {
      "cell_type": "code",
      "source": [],
      "metadata": {
        "id": "pNzyOAPI8FA1"
      },
      "execution_count": null,
      "outputs": []
    }
  ]
}